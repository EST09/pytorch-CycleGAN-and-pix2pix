{
 "cells": [
  {
   "cell_type": "code",
   "execution_count": null,
   "metadata": {},
   "outputs": [
    {
     "ename": "",
     "evalue": "",
     "output_type": "error",
     "traceback": [
      "\u001b[1;31mRunning cells with 'pytorch-CycleGAN-and-pix2pix' requires ipykernel package.\n",
      "\u001b[1;31mRun the following command to install 'ipykernel' into the Python environment. \n",
      "\u001b[1;31mCommand: 'conda install -n pytorch-CycleGAN-and-pix2pix ipykernel --update-deps --force-reinstall'"
     ]
    }
   ],
   "source": [
    "import os\n",
    "os.chdir('pytorch-CycleGAN-and-pix2pix/')"
   ]
  },
  {
   "cell_type": "code",
   "execution_count": null,
   "metadata": {},
   "outputs": [],
   "source": [
    "!python train.py --dataroot /well/rittscher/users/qdv200/MPN/processed_CALR_IHC_megs/registered_CALR_segs/ihc2he --name ihc2he --model cycle_gan --display_id -1"
   ]
  }
 ],
 "metadata": {
  "kernelspec": {
   "display_name": "pytorch-CycleGAN-and-pix2pix",
   "language": "python",
   "name": "python3"
  },
  "language_info": {
   "name": "python"
  },
  "orig_nbformat": 4,
  "vscode": {
   "interpreter": {
    "hash": "4afce75d3344a2b3408208d6e366824ea34e084accceec91470cc3eaf1e0734d"
   }
  }
 },
 "nbformat": 4,
 "nbformat_minor": 2
}
