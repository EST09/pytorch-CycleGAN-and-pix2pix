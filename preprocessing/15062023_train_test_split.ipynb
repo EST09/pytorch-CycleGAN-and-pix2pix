{
 "cells": [
  {
   "cell_type": "code",
   "execution_count": 1,
   "metadata": {},
   "outputs": [],
   "source": [
    "import os"
   ]
  },
  {
   "cell_type": "code",
   "execution_count": 9,
   "metadata": {},
   "outputs": [],
   "source": [
    "base = \"/well/rittscher/users/qdv200/MPN/GAN_tiles/ihc2he/\"\n",
    "base_ihc = os.path.join(base, \"test_256\")\n",
    "base_he = os.path.join(base, \"test_256_he\")"
   ]
  },
  {
   "cell_type": "code",
   "execution_count": 5,
   "metadata": {},
   "outputs": [],
   "source": [
    "#list files in base directory\n",
    "\n",
    "files = os.listdir(base_ihc)\n",
    "he_files_all = os.listdir(base_he)\n",
    "\n",
    "#get the prefix before the first underscore in files\n",
    "\n",
    "prefixes = [f.split('_')[0] for f in files]\n",
    "#remove duplicates\n",
    "prefixes = list(set(prefixes))"
   ]
  },
  {
   "cell_type": "code",
   "execution_count": 9,
   "metadata": {},
   "outputs": [],
   "source": [
    "#split files into separate lists based on prefix\n",
    "\n",
    "ihc_files = []\n",
    "he_files = []\n",
    "\n",
    "for prefix in prefixes:\n",
    "    ihc_files.append([f for f in files if f.startswith(prefix)])\n",
    "    he_files.append([f for f in files if f.startswith(prefix)])\n"
   ]
  },
  {
   "cell_type": "code",
   "execution_count": 12,
   "metadata": {},
   "outputs": [],
   "source": [
    "#split files into separate lists based on prefix\n",
    "\n",
    "he_prefixes = [f.split('_')[0] for f in he_files_all]\n",
    "#remove duplicates\n",
    "he_prefixes = list(set(he_prefixes))\n",
    "\n",
    "#ihc_files = []\n",
    "he_files = []\n",
    "\n",
    "for prefix in he_prefixes:\n",
    "    #ihc_files.append([f for f in files if f.startswith(prefix)])\n",
    "    he_files.append([f for f in he_files_all if f.startswith(prefix)])"
   ]
  },
  {
   "cell_type": "code",
   "execution_count": 14,
   "metadata": {},
   "outputs": [
    {
     "data": {
      "text/plain": [
       "6"
      ]
     },
     "execution_count": 14,
     "metadata": {},
     "output_type": "execute_result"
    }
   ],
   "source": [
    "len(he_files)"
   ]
  },
  {
   "cell_type": "code",
   "execution_count": 16,
   "metadata": {},
   "outputs": [],
   "source": [
    "#now for each list in ihc_files and he_files, split into train and test and validation\n",
    "\n",
    "import random\n",
    "\n",
    "# train_ihc = []\n",
    "# test_ihc = []\n",
    "# val_ihc = []\n",
    "\n",
    "train_he = []\n",
    "test_he = []\n",
    "val_he = []\n",
    "\n",
    "#for ihc, he in zip(ihc_files, he_files):\n",
    "for he in he_files:\n",
    "    # random.shuffle(ihc)\n",
    "    random.shuffle(he)\n",
    "    # train_ihc.append(ihc[:int(len(ihc)*0.8)])\n",
    "    # test_ihc.append(ihc[int(len(ihc)*0.8):int(len(ihc)*0.9)])\n",
    "    # val_ihc.append(ihc[int(len(ihc)*0.9):])\n",
    "    \n",
    "    train_he.append(he[:int(len(he)*0.8)])\n",
    "    test_he.append(he[int(len(he)*0.8):int(len(he)*0.9)])\n",
    "    val_he.append(he[int(len(he)*0.9):])"
   ]
  },
  {
   "cell_type": "code",
   "execution_count": 18,
   "metadata": {},
   "outputs": [
    {
     "data": {
      "text/plain": [
       "6"
      ]
     },
     "execution_count": 18,
     "metadata": {},
     "output_type": "execute_result"
    }
   ],
   "source": [
    "len(train_he)"
   ]
  },
  {
   "cell_type": "code",
   "execution_count": 19,
   "metadata": {},
   "outputs": [],
   "source": [
    "#flatten lists\n",
    "\n",
    "# train_ihc = [item for sublist in train_ihc for item in sublist]\n",
    "# test_ihc = [item for sublist in test_ihc for item in sublist]\n",
    "# val_ihc = [item for sublist in val_ihc for item in sublist]\n",
    "\n",
    "train_he = [item for sublist in train_he for item in sublist]\n",
    "test_he = [item for sublist in test_he for item in sublist]\n",
    "val_he = [item for sublist in val_he for item in sublist]\n",
    "\n"
   ]
  },
  {
   "cell_type": "code",
   "execution_count": 20,
   "metadata": {},
   "outputs": [
    {
     "name": "stdout",
     "output_type": "stream",
     "text": [
      "43288\n",
      "5411\n",
      "5414\n"
     ]
    }
   ],
   "source": [
    "print(len(train_he))\n",
    "print(len(test_he))\n",
    "print(len(val_he))"
   ]
  },
  {
   "cell_type": "code",
   "execution_count": 21,
   "metadata": {},
   "outputs": [],
   "source": [
    "#copy files to new directories\n",
    "\n",
    "import shutil\n",
    "\n",
    "# for f in train_ihc:\n",
    "#     shutil.copy(os.path.join(base_ihc, f), os.path.join(base, \"trainA\"))\n",
    "\n",
    "# for f in test_ihc:\n",
    "#     shutil.copy(os.path.join(base_ihc, f), os.path.join(base, \"testA\"))\n",
    "\n",
    "# for f in val_ihc:\n",
    "#     shutil.copy(os.path.join(base_ihc, f), os.path.join(base, \"valA\"))\n",
    "\n",
    "for f in train_he:\n",
    "    shutil.copy(os.path.join(base_he, f), os.path.join(base, \"trainB\"))\n",
    "\n",
    "for f in test_he:\n",
    "    shutil.copy(os.path.join(base_he, f), os.path.join(base, \"testB\"))\n",
    "\n",
    "for f in val_he:\n",
    "    shutil.copy(os.path.join(base_he, f), os.path.join(base, \"valB\"))\n"
   ]
  },
  {
   "cell_type": "code",
   "execution_count": null,
   "metadata": {},
   "outputs": [],
   "source": []
  }
 ],
 "metadata": {
  "kernelspec": {
   "display_name": "ihc_env",
   "language": "python",
   "name": "python3"
  },
  "language_info": {
   "codemirror_mode": {
    "name": "ipython",
    "version": 3
   },
   "file_extension": ".py",
   "mimetype": "text/x-python",
   "name": "python",
   "nbconvert_exporter": "python",
   "pygments_lexer": "ipython3",
   "version": "3.11.0 | packaged by conda-forge | (main, Jan 14 2023, 12:27:40) [GCC 11.3.0]"
  },
  "orig_nbformat": 4,
  "vscode": {
   "interpreter": {
    "hash": "0d4b7b009c220e50e29eee2fa4609bcb9209a4d9d834c46b83052843264abf9f"
   }
  }
 },
 "nbformat": 4,
 "nbformat_minor": 2
}
